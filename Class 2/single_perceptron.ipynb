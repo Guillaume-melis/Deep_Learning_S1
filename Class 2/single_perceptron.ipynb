{
 "cells": [
  {
   "cell_type": "markdown",
   "id": "035ceedc",
   "metadata": {},
   "source": [
    "# Imports"
   ]
  },
  {
   "cell_type": "code",
   "execution_count": 6,
   "id": "88c4fba0",
   "metadata": {},
   "outputs": [],
   "source": [
    "import pandas as pd\n",
    "from sklearn.linear_model import Perceptron\n",
    "from sklearn.model_selection import train_test_split\n",
    "from sklearn.metrics import accuracy_score, confusion_matrix\n",
    "import warnings \n",
    "warnings.filterwarnings('ignore')"
   ]
  },
  {
   "cell_type": "markdown",
   "id": "4df1f4ef",
   "metadata": {},
   "source": [
    "# Datas"
   ]
  },
  {
   "cell_type": "code",
   "execution_count": 7,
   "id": "6d5e45be",
   "metadata": {},
   "outputs": [],
   "source": [
    "inputs = pd.DataFrame({\n",
    "    'A': [2,1,2,5,7,2,3,6,1,2,5,4,6,5],\n",
    "    'B': [2,3,3,3,3,4,4,4,5,5,5,6,6,7],\n",
    "    'Targets': [0,0,0,1,1,0,0,1,0,0,1,1,1,1]\n",
    "})"
   ]
  },
  {
   "cell_type": "markdown",
   "id": "257f0717",
   "metadata": {},
   "source": [
    "# Model"
   ]
  },
  {
   "cell_type": "code",
   "execution_count": 8,
   "id": "60697ff2",
   "metadata": {},
   "outputs": [],
   "source": [
    "X = inputs[['A', 'B']]\n",
    "y = inputs['Targets']\n",
    "\n",
    "X_train, X_test, y_train, y_test = train_test_split(X, y, test_size=0.3, random_state=42)\n",
    "\n",
    "\n",
    "model = Perceptron(max_iter=1000, eta0=0.1, random_state=42)\n",
    "model.fit(X_train, y_train)\n",
    "\n",
    "\n",
    "y_pred = model.predict(X_test)"
   ]
  },
  {
   "cell_type": "code",
   "execution_count": 9,
   "id": "73d71746",
   "metadata": {},
   "outputs": [
    {
     "name": "stdout",
     "output_type": "stream",
     "text": [
      "Accuracy : 0.8\n",
      "Confusion matrix :\n",
      " [[2 1]\n",
      " [0 2]]\n",
      "Prédiction pour A=4, B=5 : 1\n"
     ]
    }
   ],
   "source": [
    "print(\"Accuracy :\", accuracy_score(y_test, y_pred))\n",
    "print(\"Confusion matrix :\\n\", confusion_matrix(y_test, y_pred))\n",
    "\n",
    "print(\"Prédiction pour A=4, B=5 :\", model.predict([[4,5]])[0])"
   ]
  }
 ],
 "metadata": {
  "kernelspec": {
   "display_name": "dl_env",
   "language": "python",
   "name": "python3"
  },
  "language_info": {
   "codemirror_mode": {
    "name": "ipython",
    "version": 3
   },
   "file_extension": ".py",
   "mimetype": "text/x-python",
   "name": "python",
   "nbconvert_exporter": "python",
   "pygments_lexer": "ipython3",
   "version": "3.10.15"
  }
 },
 "nbformat": 4,
 "nbformat_minor": 5
}
